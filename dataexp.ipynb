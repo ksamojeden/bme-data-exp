{
 "cells": [
  {
   "cell_type": "markdown",
   "metadata": {},
   "source": [
    "# 20171025 - My data exploration lab notes"
   ]
  },
  {
   "cell_type": "markdown",
   "metadata": {},
   "source": [
    "# Code Like a Pythonista"
   ]
  },
  {
   "cell_type": "markdown",
   "metadata": {},
   "source": [
    "### Iterating over list/set/dict"
   ]
  },
  {
   "cell_type": "code",
   "execution_count": 1,
   "metadata": {},
   "outputs": [
    {
     "name": "stdout",
     "output_type": "stream",
     "text": [
      "cat\n",
      "monkey\n",
      "dog\n",
      "fish\n"
     ]
    }
   ],
   "source": [
    "# Iterating over set\n",
    "animals = {'cat', 'dog', 'fish', 'monkey'}\n",
    "for animal in animals:\n",
    "    print('{}'.format(animal))"
   ]
  },
  {
   "cell_type": "code",
   "execution_count": 2,
   "metadata": {},
   "outputs": [
    {
     "name": "stdout",
     "output_type": "stream",
     "text": [
      "0: cat\n",
      "1: monkey\n",
      "2: dog\n",
      "3: fish\n"
     ]
    }
   ],
   "source": [
    "# Iterating over set (and generating an index)\n",
    "animals = {'cat', 'dog', 'fish', 'monkey'}\n",
    "for idx, animal in enumerate(animals):\n",
    "    print('{}: {}'.format(idx,animal))"
   ]
  },
  {
   "cell_type": "markdown",
   "metadata": {},
   "source": [
    "### List/Set/Dict Comprehensions\n",
    "\n",
    "Python supports list comprehensions, that can be used to construct lists in a very natural way, similar to mathematic construction.\n",
    "\n",
    "\n",
    "[ output_expression() for(set of values to iterate) if(conditional filtering) ]\n"
   ]
  },
  {
   "cell_type": "code",
   "execution_count": 3,
   "metadata": {},
   "outputs": [
    {
     "name": "stdout",
     "output_type": "stream",
     "text": [
      "[0, 1, 4, 9, 16, 25, 36, 49, 64, 81]\n",
      "[0, 4, 16, 36, 64]\n",
      "{0, 1, 2, 3, 4, 5, 6, 7, 8, 9}\n",
      "{'a': 17, 'b': 34, 'z': 3}\n",
      "{'Alice', 'John', 'Bob'}\n",
      "[[1, 0, 0], [0, 1, 0], [0, 0, 1]]\n"
     ]
    }
   ],
   "source": [
    "#List comprehension\n",
    "list1 = [x**2 for x in range(10)]\n",
    "print(list1)\n",
    "\n",
    "list2 = [x for x in list1 if x % 2 == 0]\n",
    "print(list2)\n",
    "\n",
    "#Set comprehension\n",
    "nums = {x for x in range(10)}\n",
    "print(nums)  # Prints \"{0, 1, 2, 3, 4, 5}\"\n",
    "\n",
    "#Dict comprehension\n",
    "mcase = {'a':10, 'b': 34, 'A': 7, 'Z':3}\n",
    "mcase_frequency = { k.lower() : mcase.get(k.lower(), 0) + mcase.get(k.upper(), 0) for k in mcase.keys() }\n",
    "print(mcase_frequency)\n",
    "\n",
    "#Set comprehension from list\n",
    "names = [ 'Bob', 'JOHN', 'alice', 'bob', 'ALICE', 'J', 'Bob' ]\n",
    "names_set = { name[0].upper() + name[1:].lower() for name in names if len(name) > 1 }\n",
    "print(names_set)\n",
    "\n",
    "#Nested list comprehension\n",
    "matrix = [ [ 1 if item_idx == row_idx else 0 for item_idx in range(0, 3) ] for row_idx in range(0, 3) ]\n",
    "print(matrix)"
   ]
  },
  {
   "cell_type": "markdown",
   "metadata": {},
   "source": [
    "### The power of comprehension"
   ]
  },
  {
   "cell_type": "code",
   "execution_count": 4,
   "metadata": {},
   "outputs": [
    {
     "name": "stdout",
     "output_type": "stream",
     "text": [
      "[2, 6, 10, 14, 18, 22, 26, 30, 34, 38]\n",
      "[2, 6, 10, 14, 18, 22, 26, 30, 34, 38]\n"
     ]
    }
   ],
   "source": [
    "numbers = range(20)\n",
    "\n",
    "numbers_doubled_odds = []\n",
    "for n in numbers:\n",
    "    if n%2 == 1:\n",
    "        numbers_doubled_odds.append(n*2)\n",
    "        \n",
    "print(numbers_doubled_odds)\n",
    "\n",
    "#vs\n",
    "\n",
    "numbers_doubled_odds = [n*2 for n in numbers if n%2==1]\n",
    "print(numbers_doubled_odds)"
   ]
  },
  {
   "cell_type": "code",
   "execution_count": 5,
   "metadata": {},
   "outputs": [
    {
     "name": "stdout",
     "output_type": "stream",
     "text": [
      "[2, 3, 5, 7, 11, 13, 17, 19, 23, 29, 31, 37, 41, 43, 47, 53, 59, 61, 67, 71, 73, 79, 83, 89, 97]\n"
     ]
    }
   ],
   "source": [
    "# Calculating prime numbers\n",
    "noprimes = [j for i in range(2, 8) for j in range(i*2, 100, i)]\n",
    "primes = [x for x in range(2, 100) if x not in noprimes]\n",
    "print(primes)"
   ]
  },
  {
   "cell_type": "markdown",
   "metadata": {},
   "source": [
    "# Basic Numpy data structures"
   ]
  },
  {
   "cell_type": "code",
   "execution_count": 6,
   "metadata": {},
   "outputs": [
    {
     "name": "stdout",
     "output_type": "stream",
     "text": [
      "Data in arr1D:\n",
      " [ 1  2  3  4  5  6  7  8  9 10]\n"
     ]
    },
    {
     "data": {
      "text/plain": [
       "array([ 1,  2,  3,  4,  5,  6,  7,  8,  9, 10])"
      ]
     },
     "execution_count": 6,
     "metadata": {},
     "output_type": "execute_result"
    }
   ],
   "source": [
    "import numpy as np\n",
    "\n",
    "array1D = np.array([1,2,3,4,5,6,7,8, 9, 10])\n",
    "\n",
    "#Standard print\n",
    "print('Data in arr1D:\\n', array1D)\n",
    "\n",
    "#The last line is evaluated\n",
    "array1D"
   ]
  },
  {
   "cell_type": "code",
   "execution_count": 7,
   "metadata": {},
   "outputs": [
    {
     "name": "stdout",
     "output_type": "stream",
     "text": [
      "Data in arr2D:\n",
      " [[1 2 3 4]\n",
      " [5 6 7 8]]\n"
     ]
    },
    {
     "data": {
      "text/plain": [
       "array([[1, 2, 3, 4],\n",
       "       [5, 6, 7, 8]])"
      ]
     },
     "execution_count": 7,
     "metadata": {},
     "output_type": "execute_result"
    }
   ],
   "source": [
    "array2D = np.array([[1,2,3,4],[5,6,7,8]])\n",
    "\n",
    "print('Data in arr2D:\\n', array2D)\n",
    "\n",
    "array2D"
   ]
  },
  {
   "cell_type": "code",
   "execution_count": 8,
   "metadata": {},
   "outputs": [
    {
     "name": "stdout",
     "output_type": "stream",
     "text": [
      "[[1 2 3 4]\n",
      " [5 6 7 8]]\n",
      "[[2 3]\n",
      " [6 7]]\n"
     ]
    }
   ],
   "source": [
    "# Slicing works the same as in standard Python\n",
    "\n",
    "array2D = np.array([[1,2,3,4],[5,6,7,8]])\n",
    "print(array2D)\n",
    "\n",
    "mini_array2D = array2D[:2, 1:3]\n",
    "print(mini_array2D)"
   ]
  },
  {
   "cell_type": "markdown",
   "metadata": {},
   "source": [
    "## Creating arrays"
   ]
  },
  {
   "cell_type": "code",
   "execution_count": 9,
   "metadata": {},
   "outputs": [
    {
     "name": "stdout",
     "output_type": "stream",
     "text": [
      "[[ 0.  0.  0.  0.]\n",
      " [ 0.  0.  0.  0.]]\n",
      "[[ 1.  1.  1.  1.]\n",
      " [ 1.  1.  1.  1.]]\n",
      "[[ 0.8  0.8  0.8  0.8]\n",
      " [ 0.8  0.8  0.8  0.8]]\n",
      "[[ 0.32501545  0.64297193  0.04874627  0.06266212]\n",
      " [ 0.11432724  0.95436057  0.62908533  0.3934264 ]]\n",
      "<class 'numpy.ndarray'>\n",
      "(2, 4)\n"
     ]
    }
   ],
   "source": [
    "array2D = np.zeros((2,4))\n",
    "print(array2D)\n",
    "\n",
    "array2D = np.ones((2,4))\n",
    "print(array2D)\n",
    "\n",
    "array2D = np.full((2,4),0.8)\n",
    "print(array2D)\n",
    "\n",
    "array2D = np.random.random((2,4))\n",
    "print(array2D)\n",
    "\n",
    "print(type(array2D))\n",
    "print(array2D.shape)"
   ]
  },
  {
   "cell_type": "markdown",
   "metadata": {},
   "source": [
    "## Changing the shape of arrays"
   ]
  },
  {
   "cell_type": "code",
   "execution_count": 10,
   "metadata": {},
   "outputs": [
    {
     "name": "stdout",
     "output_type": "stream",
     "text": [
      "[ 0  1  2  3  4  5  6  7  8  9 10 11] \n",
      "\n",
      "[[ 0  1  2  3  4  5]\n",
      " [ 6  7  8  9 10 11]] \n",
      "\n",
      "[[ 0  1]\n",
      " [ 2  3]\n",
      " [ 4  5]\n",
      " [ 6  7]\n",
      " [ 8  9]\n",
      " [10 11]] \n",
      "\n",
      "[[[ 0  1  2]\n",
      "  [ 3  4  5]]\n",
      "\n",
      " [[ 6  7  8]\n",
      "  [ 9 10 11]]] \n",
      "\n",
      "[[[ 0  1]\n",
      "  [ 2  3]]\n",
      "\n",
      " [[ 4  5]\n",
      "  [ 6  7]]\n",
      "\n",
      " [[ 8  9]\n",
      "  [10 11]]] \n",
      "\n"
     ]
    }
   ],
   "source": [
    "array1D = np.arange(12)\n",
    "print(array1D,'\\n')\n",
    "\n",
    "array2D = array1D.reshape(2,6) \n",
    "print(array2D,'\\n')\n",
    "\n",
    "array2D = array1D.reshape(6,2) \n",
    "print(array2D,'\\n')\n",
    "\n",
    "array3D = array1D.reshape(2,2,3) \n",
    "print(array3D,'\\n')\n",
    "\n",
    "array3D = array1D.reshape(3,2,2) \n",
    "print(array3D,'\\n')"
   ]
  },
  {
   "cell_type": "markdown",
   "metadata": {},
   "source": [
    "## Statistics"
   ]
  },
  {
   "cell_type": "code",
   "execution_count": 11,
   "metadata": {},
   "outputs": [
    {
     "name": "stdout",
     "output_type": "stream",
     "text": [
      "\n",
      " Numpy 2-dim array\n",
      "[[-1.91676919 -0.82903614  0.09831266 -0.26945091 -0.30614273]\n",
      " [-0.64949701  0.15896014  0.62038264 -0.50294463 -0.28051979]\n",
      " [-0.92855886 -0.7160973   1.77312128 -0.55484851  0.39640845]\n",
      " [ 0.53648903 -1.94113288  0.69364212  0.70478747  0.55072403]\n",
      " [-0.4904765   0.04574453  1.5269125  -1.16301585 -0.16958285]\n",
      " [-1.67551136 -1.19950876  1.48486584 -0.21099859  0.2339799 ]\n",
      " [-1.32631813 -0.71617488 -0.61762391 -1.06785925  1.5826729 ]\n",
      " [-0.08690198  0.53616966 -0.62694456  0.81235137 -1.43032088]\n",
      " [-0.41919501  0.25580246 -1.56213368  2.12270945 -1.49628911]\n",
      " [ 1.28077043 -1.0620417   0.57734305 -0.02029614  0.5593769 ]]\n",
      "\n",
      " Standard deviation of array\n",
      "0.978572096479\n"
     ]
    }
   ],
   "source": [
    "print('\\n Numpy 2-dim array')\n",
    "tab10n5 = np.random.randn(10,5)\n",
    "\n",
    "print(tab10n5)\n",
    "print('\\n Standard deviation of array')\n",
    "print(np.std(tab10n5))"
   ]
  },
  {
   "cell_type": "code",
   "execution_count": 12,
   "metadata": {
    "collapsed": true
   },
   "outputs": [],
   "source": [
    "#TODO Statistics functions"
   ]
  },
  {
   "cell_type": "markdown",
   "metadata": {},
   "source": [
    "## Stacking together different arrays\n",
    "\n",
    "Take a quick look at [tutorial](https://docs.scipy.org/doc/numpy-dev/user/quickstart.html)\n",
    "and fill the next cell\n"
   ]
  },
  {
   "cell_type": "code",
   "execution_count": 13,
   "metadata": {
    "collapsed": true
   },
   "outputs": [],
   "source": [
    "#TODO stacking arrays"
   ]
  },
  {
   "cell_type": "markdown",
   "metadata": {},
   "source": [
    "## Plotting"
   ]
  },
  {
   "cell_type": "code",
   "execution_count": 14,
   "metadata": {},
   "outputs": [
    {
     "data": {
      "image/png": "[encoded data removed]",
      "text/plain": [
       "<matplotlib.figure.Figure at 0x7f5fdde4d438>"
      ]
     },
     "metadata": {},
     "output_type": "display_data"
    }
   ],
   "source": [
    "%matplotlib inline\n",
    "\n",
    "import numpy as np\n",
    "import matplotlib.pyplot as plt\n",
    "\n",
    "x = np.linspace(0, 3*np.pi, 50)\n",
    "plt.plot(x, np.sin(x**2))\n",
    "plt.title('A simple chirp');"
   ]
  },
  {
   "cell_type": "markdown",
   "metadata": {},
   "source": [
    "## Importing data"
   ]
  },
  {
   "cell_type": "code",
   "execution_count": 17,
   "metadata": {},
   "outputs": [
    {
     "name": "stderr",
     "output_type": "stream",
     "text": [
      "/home/student/anaconda3/lib/python3.6/site-packages/IPython/core/interactiveshell.py:2728: DtypeWarning: Columns (4,6,31,33,61,62,63,76,79,90,92,94,96,114,115,121) have mixed types. Specify dtype option on import or set low_memory=False.\n",
      "  interactivity=interactivity, compiler=compiler, result=result)\n"
     ]
    },
    {
     "data": {
      "text/html": [
       "<div>\n",
       "<style scoped>\n",
       "    .dataframe tbody tr th:only-of-type {\n",
       "        vertical-align: middle;\n",
       "    }\n",
       "\n",
       "    .dataframe tbody tr th {\n",
       "        vertical-align: top;\n",
       "    }\n",
       "\n",
       "    .dataframe thead th {\n",
       "        text-align: right;\n",
       "    }\n",
       "</style>\n",
       "<table border=\"1\" class=\"dataframe\">\n",
       "  <thead>\n",
       "    <tr style=\"text-align: right;\">\n",
       "      <th></th>\n",
       "      <th>Year</th>\n",
       "      <th>Month</th>\n",
       "      <th>Day</th>\n",
       "      <th>Country</th>\n",
       "      <th>Region</th>\n",
       "      <th>city</th>\n",
       "      <th>latitude</th>\n",
       "      <th>longitude</th>\n",
       "      <th>AttackType</th>\n",
       "      <th>Killed</th>\n",
       "      <th>Wounded</th>\n",
       "      <th>Target</th>\n",
       "      <th>Summary</th>\n",
       "      <th>Group</th>\n",
       "      <th>Target_type</th>\n",
       "      <th>Weapon_type</th>\n",
       "      <th>Motive</th>\n",
       "      <th>casualities</th>\n",
       "    </tr>\n",
       "  </thead>\n",
       "  <tbody>\n",
       "    <tr>\n",
       "      <th>0</th>\n",
       "      <td>1970</td>\n",
       "      <td>7</td>\n",
       "      <td>2</td>\n",
       "      <td>Dominican Republic</td>\n",
       "      <td>Central America &amp; Caribbean</td>\n",
       "      <td>Santo Domingo</td>\n",
       "      <td>18.456792</td>\n",
       "      <td>-69.951164</td>\n",
       "      <td>Assassination</td>\n",
       "      <td>1.0</td>\n",
       "      <td>0.0</td>\n",
       "      <td>Julio Guzman</td>\n",
       "      <td>NaN</td>\n",
       "      <td>MANO-D</td>\n",
       "      <td>Private Citizens &amp; Property</td>\n",
       "      <td>Unknown</td>\n",
       "      <td>NaN</td>\n",
       "      <td>1.0</td>\n",
       "    </tr>\n",
       "    <tr>\n",
       "      <th>1</th>\n",
       "      <td>1970</td>\n",
       "      <td>0</td>\n",
       "      <td>0</td>\n",
       "      <td>Mexico</td>\n",
       "      <td>North America</td>\n",
       "      <td>Mexico city</td>\n",
       "      <td>19.371887</td>\n",
       "      <td>-99.086624</td>\n",
       "      <td>Hostage Taking (Kidnapping)</td>\n",
       "      <td>0.0</td>\n",
       "      <td>0.0</td>\n",
       "      <td>Nadine Chaval, daughter</td>\n",
       "      <td>NaN</td>\n",
       "      <td>23rd of September Communist League</td>\n",
       "      <td>Government (Diplomatic)</td>\n",
       "      <td>Unknown</td>\n",
       "      <td>NaN</td>\n",
       "      <td>0.0</td>\n",
       "    </tr>\n",
       "    <tr>\n",
       "      <th>2</th>\n",
       "      <td>1970</td>\n",
       "      <td>1</td>\n",
       "      <td>0</td>\n",
       "      <td>Philippines</td>\n",
       "      <td>Southeast Asia</td>\n",
       "      <td>Unknown</td>\n",
       "      <td>15.478598</td>\n",
       "      <td>120.599741</td>\n",
       "      <td>Assassination</td>\n",
       "      <td>1.0</td>\n",
       "      <td>0.0</td>\n",
       "      <td>Employee</td>\n",
       "      <td>NaN</td>\n",
       "      <td>Unknown</td>\n",
       "      <td>Journalists &amp; Media</td>\n",
       "      <td>Unknown</td>\n",
       "      <td>NaN</td>\n",
       "      <td>1.0</td>\n",
       "    </tr>\n",
       "  </tbody>\n",
       "</table>\n",
       "</div>"
      ],
      "text/plain": [
       "   Year  Month  Day             Country                       Region  \\\n",
       "0  1970      7    2  Dominican Republic  Central America & Caribbean   \n",
       "1  1970      0    0              Mexico                North America   \n",
       "2  1970      1    0         Philippines               Southeast Asia   \n",
       "\n",
       "            city   latitude   longitude                   AttackType  Killed  \\\n",
       "0  Santo Domingo  18.456792  -69.951164                Assassination     1.0   \n",
       "1    Mexico city  19.371887  -99.086624  Hostage Taking (Kidnapping)     0.0   \n",
       "2        Unknown  15.478598  120.599741                Assassination     1.0   \n",
       "\n",
       "   Wounded                   Target Summary  \\\n",
       "0      0.0             Julio Guzman     NaN   \n",
       "1      0.0  Nadine Chaval, daughter     NaN   \n",
       "2      0.0                 Employee     NaN   \n",
       "\n",
       "                                Group                  Target_type  \\\n",
       "0                              MANO-D  Private Citizens & Property   \n",
       "1  23rd of September Communist League      Government (Diplomatic)   \n",
       "2                             Unknown          Journalists & Media   \n",
       "\n",
       "  Weapon_type Motive  casualities  \n",
       "0     Unknown    NaN          1.0  \n",
       "1     Unknown    NaN          0.0  \n",
       "2     Unknown    NaN          1.0  "
      ]
     },
     "execution_count": 17,
     "metadata": {},
     "output_type": "execute_result"
    }
   ],
   "source": [
    "import csv\n",
    "import numpy as np\n",
    "import pandas as pd\n",
    "import matplotlib.pyplot as plt\n",
    "import seaborn as sns\n",
    "\n",
    "terror=pd.read_csv('globalterrorismdb_0718dist.csv',encoding='ISO-8859-1')\n",
    "terror.rename(columns={'iyear':'Year','imonth':'Month','iday':'Day','country_txt':'Country','region_txt':'Region','attacktype1_txt':'AttackType','target1':'Target','nkill':'Killed','nwound':'Wounded','summary':'Summary','gname':'Group','targtype1_txt':'Target_type','weaptype1_txt':'Weapon_type','motive':'Motive'},inplace=True)\n",
    "terror=terror[['Year','Month','Day','Country','Region','city','latitude','longitude','AttackType','Killed','Wounded','Target','Summary','Group','Target_type','Weapon_type','Motive']]\n",
    "terror['casualities']=terror['Killed']+terror['Wounded']\n",
    "terror.head(3)"
   ]
  },
  {
   "cell_type": "markdown",
   "metadata": {},
   "source": [
    "## Some Basic Analysis\n"
   ]
  },
  {
   "cell_type": "code",
   "execution_count": 36,
   "metadata": {
    "collapsed": true
   },
   "outputs": [
    {
     "data": {
      "image/png": "[encoded data removed]",
      "text/plain": [
       "<matplotlib.figure.Figure at 0x7f92a3aa1a20>"
      ]
     },
     "metadata": {},
     "output_type": "display_data"
    },
    {
     "data": {
      "image/png": "[encoded data removed]",
      "text/plain": [
       "<matplotlib.figure.Figure at 0x7f92a3aa1208>"
      ]
     },
     "metadata": {},
     "output_type": "display_data"
    },
    {
     "data": {
      "image/png": "[encoded data removed]",
      "text/plain": [
       "<matplotlib.figure.Figure at 0x7f92a4c388d0>"
      ]
     },
     "metadata": {},
     "output_type": "display_data"
    }
   ],
   "source": [
    "plt.subplots(figsize=(15,6))\n",
    "sns.countplot('Month',data=terror,palette='RdYlGn_r',edgecolor=sns.color_palette('dark',7))\n",
    "plt.xticks(rotation=90)\n",
    "plt.title('Number Of Terrorist Activities Each Month')\n",
    "plt.show()\n",
    "\n",
    "plt.subplots(figsize=(15,6))\n",
    "sns.countplot('AttackType',data=terror,palette='inferno',order=terror['AttackType'].value_counts().index)\n",
    "plt.xticks(rotation=90)\n",
    "plt.title('Attacking Methods by Terrorists')\n",
    "plt.show()\n",
    "\n",
    "plt.subplots(figsize=(15,6))\n",
    "sns.countplot('Target_type',data=terror,palette='RdYlGn',edgecolor=sns.color_palette('dark',7),order=terror['Target_type'].value_counts().index)\n",
    "plt.xticks(rotation=90)\n",
    "plt.title('Target types')\n",
    "plt.show() "
   ]
  },
  {
   "cell_type": "markdown",
   "metadata": {},
   "source": [
    "## Attacks vs killed"
   ]
  },
  {
   "cell_type": "code",
   "execution_count": 27,
   "metadata": {},
   "outputs": [
    {
     "data": {
      "image/png": "[encoded data removed]",
      "text/plain": [
       "<matplotlib.figure.Figure at 0x7f92d77cbc88>"
      ]
     },
     "metadata": {},
     "output_type": "display_data"
    }
   ],
   "source": [
    "coun_terror=terror['Country'].value_counts()[:15].to_frame()\n",
    "coun_terror.columns=['Attacks']\n",
    "coun_kill=terror.groupby('Country')['Killed'].sum().to_frame()\n",
    "coun_terror.merge(coun_kill,left_index=True,right_index=True,how='left').plot.bar(width=0.9)\n",
    "fig=plt.gcf()\n",
    "fig.set_size_inches(18,6)\n",
    "plt.show()\n"
   ]
  },
  {
   "cell_type": "markdown",
   "metadata": {},
   "source": [
    "# Miniproject - data exploration\n",
    "\n",
    "[Global Terrorism Database](https://www.kaggle.com/START-UMD/gtd)"
   ]
  },
  {
   "cell_type": "markdown",
   "metadata": {},
   "source": [
    "# Instructions:\n",
    "\n",
    "1. Download data set, Global Terrorism Database, from https://www.kaggle.com/START-UMD/gtd\n",
    "2. Take a quick look at the data set. Check what's inside, how the data is structured, and where the data is corrupted (missing values, bad structure, etc).\n",
    "3. Think and create 5 questions to the data. Try to ask yourself what's really interesting in the data set. What's not so obvious. E.g. some trends, patterns, correlations.\n",
    "4. Create a jupyter notebook and use python, numpy, pandas, matplotlib (at least) to provide all the answers to your questions.\n",
    "5. Create a new github repository, and put your jupyter notebook there.\n",
    "6. Create readme.md file as well in your github root directory with all necessary instructions (what is in the repo, what libs are necessary to run the code, where to find data set and where to save it  - this is necessary because the dataset is too big for github repo).\n",
    "7. Provide the necessary documentation and introduction in your notebook using markdown language, at least: data source description, data structure, importing process, data processing process.\n",
    "8. Put some data visualization in your notebook. Sometimes it's much easier to present the answer using a chart rather than numbers\n",
    "9. Check if your notebook run smoothly - use 'Reset & Run All' command from the menu. Save it.\n",
    "10. Export the notebook as HTML as well, and save the file in the repo.\n",
    "11. Do not forget to commit/push all the changes to your repo on hithub.\n",
    "12. Smile :) You did a good job!\n",
    "\n",
    "FAQ:\n",
    "1. Can I take a look at different solution provided at kaggle?  Yes, you can. But check more than one solution. Try to understand what the authors are trying to solve, and how could it be used in your project. Try to find really good examples - easy to understand and not so complicated. Remember - you create the notebook as an instruction to someone else! Try to not complicate the process.\n",
    "2. Can I take a look at my friend's solution, that he/she has just put on github? Yes, you can. But it's the smart way of solving the project. I'm sure that you want to be smarter in the next semester - so try to create a better solution and your own one :)\n",
    "3. Jupyter notebook provide R kernel, so can I use R instead? Nope, R sucks. Even if you love R, try to solve the project using Python.\n"
   ]
  },
  {
   "cell_type": "code",
   "execution_count": null,
   "metadata": {
    "collapsed": true
   },
   "outputs": [],
   "source": []
  }
 ],
 "metadata": {
  "kernelspec": {
   "display_name": "Python 3",
   "language": "python",
   "name": "python3"
  },
  "language_info": {
   "codemirror_mode": {
    "name": "ipython",
    "version": 3
   },
   "file_extension": ".py",
   "mimetype": "text/x-python",
   "name": "python",
   "nbconvert_exporter": "python",
   "pygments_lexer": "ipython3",
   "version": "3.6.4"
  }
 },
 "nbformat": 4,
 "nbformat_minor": 2
}
